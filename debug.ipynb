{
 "cells": [
  {
   "cell_type": "code",
   "execution_count": 1,
   "id": "5c861b43",
   "metadata": {},
   "outputs": [],
   "source": [
    "import os\n",
    "import json\n",
    "import pyautogui\n",
    "import time\n",
    "import random\n",
    "from selenium import webdriver\n",
    "from selenium.webdriver.chrome.service import Service\n",
    "from webdriver_manager.chrome import ChromeDriverManager\n",
    "from selenium.webdriver.common.alert import Alert\n",
    "from selenium.webdriver.common.keys import Keys"
   ]
  },
  {
   "cell_type": "code",
   "execution_count": null,
   "id": "cb73be31",
   "metadata": {},
   "outputs": [],
   "source": [
    "from src.chrome_manager import select_mobile_and_get_driver\n",
    "from src.account_manager import login, save_cookies\n",
    "from src.utils import x_path_click\n",
    "from resources.xpath_dict import xpath_dict, id_dict\n",
    "from src.naverband_automation import roof_bands\n",
    "from config import *"
   ]
  },
  {
   "cell_type": "code",
   "execution_count": null,
   "id": "99932985",
   "metadata": {},
   "outputs": [],
   "source": [
    "mobile, driver = select_mobile_and_get_driver()\n",
    "print(f\"{mobile} 계정으로 브라우저가 실행되었습니다.\")\n",
    "login(driver)"
   ]
  },
  {
   "cell_type": "code",
   "execution_count": null,
   "id": "718227a6",
   "metadata": {},
   "outputs": [],
   "source": [
    "# 밴드회전\n",
    "p_time = pyautogui.prompt(title=\"실행시간\", default='예) 1 : 1시간, 0.5 = 30분', text = \"시간\")\n",
    "e_time = time.time() + 60*60*float(p_time)\n",
    "\n",
    "start_time = time.strftime('%p %I시%M분%S초', time.localtime())\n",
    "end_time = time.strftime('%p %I시%M분%S초', time.localtime(e_time))\n",
    "print(f'{mobile}는 {start_time}에 시작하여, {end_time}에 종료예정입니다.')\n",
    "\n",
    "t = 1 #회전수 확인\n",
    "# while t < 1 :\n",
    "while time.time() < e_time:\n",
    "    roof_bands(\n",
    "    driver, \n",
    "    xpath_dict, \n",
    "    BAND_LIST, \n",
    "    TXT_DIR, \n",
    "    IMAGE_DIR, \n",
    "    URL_MODES, \n",
    "    MAX_ERROR_CNT=3\n",
    ")\n",
    "    rand_sleep = random.randrange(10,20)\n",
    "    rel_time = time.strftime('%p %I시%M분', time.localtime(time.time()+rand_sleep))\n",
    "    print('-'*20)\n",
    "    print('{}회전, {}초간 휴식/ {}에 다시 시작합니다'.format(t, rand_sleep, rel_time))\n",
    "    print('-'*20) \n",
    "    time.sleep(rand_sleep)\n",
    "    t += 1\n",
    "time.sleep(1)\n",
    "x_path_click(driver, xpath_dict['let_me'])\n",
    "time.sleep(1)\n",
    "x_path_click(driver, xpath_dict['log_out'])\n",
    "time.sleep(1)\n",
    "x_path_click(driver, xpath_dict['log_out_but'])\n",
    "\n",
    "close_time = time.strftime('%p %I시%M분%S초', time.localtime())\n",
    "print('이 project는 {}에 완료하여 logout하였습니다'.format(close_time))\n",
    "save_cookies(driver)\n",
    "driver.quit()"
   ]
  },
  {
   "cell_type": "code",
   "execution_count": null,
   "id": "f2db3dc5",
   "metadata": {},
   "outputs": [],
   "source": [
    "import pickle\n",
    "\n",
    "with open(r\"D:\\coding\\login\\accounts\\01075381965\\cookies\\cookies.pkl\", \"rb\") as f:\n",
    "    cookies = pickle.load(f)\n",
    "domains = set([c['domain'] for c in cookies])\n",
    "print(\"저장된 쿠키의 domain set:\", domains)\n"
   ]
  }
 ],
 "metadata": {
  "kernelspec": {
   "display_name": "band-project",
   "language": "python",
   "name": "python3"
  },
  "language_info": {
   "codemirror_mode": {
    "name": "ipython",
    "version": 3
   },
   "file_extension": ".py",
   "mimetype": "text/x-python",
   "name": "python",
   "nbconvert_exporter": "python",
   "pygments_lexer": "ipython3",
   "version": "3.8.8"
  }
 },
 "nbformat": 4,
 "nbformat_minor": 5
}
