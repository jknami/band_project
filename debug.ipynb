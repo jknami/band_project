{
 "cells": [
  {
   "cell_type": "code",
   "execution_count": 1,
   "id": "5c861b43",
   "metadata": {},
   "outputs": [],
   "source": [
    "import os\n",
    "import json\n",
    "import pyautogui\n",
    "import time\n",
    "import random\n",
    "from selenium import webdriver\n",
    "from selenium.webdriver.chrome.service import Service\n",
    "from webdriver_manager.chrome import ChromeDriverManager\n",
    "from selenium.webdriver.common.alert import Alert\n",
    "from selenium.webdriver.common.keys import Keys"
   ]
  },
  {
   "cell_type": "code",
   "execution_count": 4,
   "id": "cb73be31",
   "metadata": {},
   "outputs": [],
   "source": [
    "from src.chrome_manager import select_mobile_and_get_driver\n",
    "from src.account_manager import login, save_cookies\n",
    "from src.utils import x_path_click\n",
    "from resources.xpath_dict import xpath_dict, id_dict\n",
    "from src.naverband_automation import roof_bands, perform_logout\n",
    "from config import *"
   ]
  },
  {
   "cell_type": "code",
   "execution_count": 50,
   "id": "d98906d7",
   "metadata": {},
   "outputs": [],
   "source": [
    "import pyautogui    # prompt 입력에 필요\n",
    "import time         # sleep, 시간 계산 등에 필요\n",
    "import random       # rand_sleep, 셔플 등에 필요\n",
    "from selenium import webdriver   # driver 사용에 필요\n",
    "from selenium.webdriver.common.alert import Alert   # Alert 처리 필요\n",
    "from selenium.webdriver.common.keys import Keys     # 키입력(ESC, ENTER)에 필요\n",
    "\n",
    "from src.chrome_manager import select_mobile_and_get_driver\n",
    "from src.account_manager import login, save_cookies\n",
    "from src.utils import x_path_click\n",
    "from resources.xpath_dict import xpath_dict, id_dict\n",
    "from src.naverband_automation import roof_bands, perform_logout\n",
    "from config import *"
   ]
  },
  {
   "cell_type": "code",
   "execution_count": 51,
   "id": "99932985",
   "metadata": {},
   "outputs": [
    {
     "name": "stderr",
     "output_type": "stream",
     "text": [
      "[2025-10-17 00:11:38] [INFO] profile_dir의 경로는 d:\\coding\\band_project\\accounts/01075381965/chrome_profile\n"
     ]
    },
    {
     "name": "stdout",
     "output_type": "stream",
     "text": [
      "선택한 전화번호는 01075381965\n",
      "크롬 프로필 기본 저장 위치 : d:\\coding\\band_project\\accounts/01075381965/chrome_profile\\Default\\Preferences\n",
      "[INFO] 복원 팝업 ESC 키 전송으로 닫음\n",
      "01075381965 계정으로 브라우저가 실행되었습니다.\n",
      "[INFO] 쿠키 추가 성공: .www.band.us (JSESSIONID)\n",
      "[INFO] 쿠키 추가 성공: .band.us (BBC)\n",
      "[INFO] 쿠키 추가 성공: .band.us (language)\n",
      "[INFO] 쿠키 추가 성공: .band.us (di)\n",
      "[INFO] 쿠키 추가 성공: www.band.us (JSESSIONID)\n",
      "[INFO] 전화번호 입력 성공\n",
      "[INFO] 비밀번호 입력 성공\n"
     ]
    }
   ],
   "source": [
    "mobile, driver = select_mobile_and_get_driver()\n",
    "print(f\"{mobile} 계정으로 브라우저가 실행되었습니다.\")\n",
    "login(driver)"
   ]
  },
  {
   "cell_type": "code",
   "execution_count": 43,
   "id": "d4554357",
   "metadata": {},
   "outputs": [],
   "source": [
    "from src.utils import focus_window, move_mouse_naturally,human_delay,safe_xpath_click, x_path_human_click"
   ]
  },
  {
   "cell_type": "code",
   "execution_count": 36,
   "id": "8163da67",
   "metadata": {},
   "outputs": [
    {
     "name": "stderr",
     "output_type": "stream",
     "text": [
      "[2025-10-16 23:46:17] [INFO] [INFO] 창 포커스 및 최대화: ● debug.ipynb - band_project - Visual Studio Code\n"
     ]
    }
   ],
   "source": [
    "# 브라우저 창 포커스 유지 (윈도우창 제목 예시)\n",
    "focus_window(\"band\")"
   ]
  },
  {
   "cell_type": "code",
   "execution_count": 38,
   "id": "019b544b",
   "metadata": {},
   "outputs": [
    {
     "name": "stderr",
     "output_type": "stream",
     "text": [
      "[2025-10-16 23:47:45] [INFO] [INFO] 마우스 자연 이동: (319, 308), duration: 0.90s\n",
      "[2025-10-16 23:47:45] [INFO] [DELAY] click 단계: 0.92초 대기\n",
      "[2025-10-16 23:47:47] [INFO] [DELAY] click 단계: 0.60초 대기\n"
     ]
    }
   ],
   "source": [
    "# 마우스 자연 이동 후 밴드 클릭\n",
    "move_mouse_naturally()\n",
    "x_path_click(driver,'//*[@id=\"content\"]/section/div[2]/div/ul/li[2]/div/div/a/div[1]/div/span')\n",
    "human_delay(\"click\")"
   ]
  },
  {
   "cell_type": "code",
   "execution_count": 42,
   "id": "54d6b08d",
   "metadata": {},
   "outputs": [
    {
     "name": "stderr",
     "output_type": "stream",
     "text": [
      "[2025-10-16 23:50:29] [INFO] [DELAY] thinking 단계: 2.44초 대기\n",
      "[2025-10-16 23:50:31] [INFO] [DELAY] click 단계: 0.85초 대기\n",
      "[2025-10-16 23:50:32] [INFO] [DELAY] click 단계: 1.05초 대기\n",
      "[2025-10-16 23:50:33] [INFO] [INFO] 글쓰기 버튼 강제 클릭 성공\n",
      "[2025-10-16 23:50:33] [INFO] [DELAY] default 단계: 1.06초 대기\n"
     ]
    }
   ],
   "source": [
    "# 글쓰기 버튼 클릭 + 고민 시간\n",
    "human_delay(\"thinking\")\n",
    "x_path_human_click(driver, xpath_dict['글쓰기_1'])"
   ]
  },
  {
   "cell_type": "code",
   "execution_count": 44,
   "id": "91e1b431",
   "metadata": {},
   "outputs": [],
   "source": [
    "from src.naverband_automation import write_text_from_folder, upload_file_from_folder"
   ]
  },
  {
   "cell_type": "code",
   "execution_count": 48,
   "id": "8e844ef1",
   "metadata": {},
   "outputs": [],
   "source": [
    "def process_band(driver, xpath_dict, i, TXT_DIR, IMAGE_DIR):\n",
    "    \"\"\"\n",
    "    밴드 작업을 사람 행동처럼 자연스럽게 수행\n",
    "    \"\"\"\n",
    "    # 브라우저 창 포커스 유지 (윈도우창 제목 예시)\n",
    "    focus_window(\"band\")\n",
    "    i ='//*[@id=\"content\"]/section/div[2]/div/ul/li[2]/div/div/a/div[1]/div/span'\n",
    "    # 마우스 자연 이동 후 밴드 클릭\n",
    "# 마우스 자연 이동 후 밴드 클릭\n",
    "    move_mouse_naturally()\n",
    "    x_path_click(driver,i)\n",
    "    human_delay(\"click\")\n",
    "\n",
    "    # 글쓰기 버튼 클릭 + 고민 시간\n",
    "    human_delay(\"thinking\")\n",
    "    safe_xpath_click(driver, xpath_dict['글쓰기_1'])\n",
    "\n",
    "    # 텍스트 입력 (느린 타이핑 포함)\n",
    "    write_text_from_folder(driver, xpath_dict['글쓰기_2'], TXT_DIR)\n",
    "    human_delay(\"typing\")\n",
    "\n",
    "    # 이미지 업로드 + 대기\n",
    "    upload_file_from_folder(driver, IMAGE_DIR)\n",
    "    human_delay(\"upload\")\n",
    "\n",
    "    # 이미지 첨부 클릭 (마우스 이동 포함)\n",
    "    move_mouse_naturally()\n",
    "    x_path_click(driver, xpath_dict['이미지첨부'])\n",
    "    human_delay(\"click\")\n",
    "\n",
    "    # 게시하기 클릭 + 생각시간\n",
    "    x_path_click(driver, xpath_dict['이미지게시'])\n",
    "    human_delay(\"thinking\")\n",
    "\n",
    "    # 화면 스크롤 후 홈으로 돌아가기\n",
    "    driver.execute_script(\"window.scrollBy(0, window.innerHeight / 3)\")\n",
    "    human_delay(\"scroll\")\n",
    "    x_path_click(driver, xpath_dict['홈'])\n",
    "    human_delay(\"scroll\")"
   ]
  },
  {
   "cell_type": "code",
   "execution_count": 49,
   "id": "c20bc74b",
   "metadata": {},
   "outputs": [
    {
     "name": "stderr",
     "output_type": "stream",
     "text": [
      "[2025-10-16 23:58:14] [INFO] [INFO] 창 포커스 및 최대화: ● debug.ipynb - band_project - Visual Studio Code\n",
      "[2025-10-16 23:58:16] [INFO] [INFO] 마우스 자연 이동: (650, 454), duration: 1.36s\n",
      "[2025-10-16 23:58:16] [INFO] [DELAY] click 단계: 1.29초 대기\n",
      "[2025-10-16 23:58:18] [INFO] [DELAY] click 단계: 1.26초 대기\n",
      "[2025-10-16 23:58:19] [INFO] [DELAY] thinking 단계: 3.92초 대기\n",
      "[2025-10-16 23:58:23] [INFO] [DELAY] click 단계: 0.76초 대기\n",
      "[2025-10-16 23:58:34] [WARNING] [WARN] XPATH 클릭 실패: //*[@id=\"content\"]/section/div[2]/div/button\n",
      "에러: Message: \n",
      "\n",
      "[2025-10-16 23:58:34] [INFO] [INFO] 에러 스크린샷 저장: d:\\coding\\band_project\\logs/screenshots\\xpath_click_fail_20251016_235834.png\n",
      "[2025-10-16 23:58:35] [INFO] [INFO] 마우스 자연 이동: (368, 347), duration: 0.45s\n",
      "[2025-10-16 23:58:35] [INFO] [DELAY] thinking 단계: 3.04초 대기\n",
      "[2025-10-16 23:58:38] [INFO] [DELAY] click 단계: 1.11초 대기\n",
      "[2025-10-16 23:58:49] [WARNING] [WARN] 기본 클릭 실패(Message: \n",
      "), 인간 패턴 클릭으로 전환 중...\n",
      "[2025-10-16 23:58:49] [INFO] [DELAY] click 단계: 1.22초 대기\n",
      "[2025-10-16 23:58:51] [INFO] [DELAY] click 단계: 0.65초 대기\n",
      "[2025-10-16 23:58:52] [INFO] [INFO] 글쓰기 버튼 강제 클릭 성공\n",
      "[2025-10-16 23:58:52] [INFO] [DELAY] default 단계: 2.40초 대기\n",
      "[2025-10-17 00:00:54] [INFO] [DELAY] typing 단계: 3.42초 대기\n"
     ]
    },
    {
     "name": "stdout",
     "output_type": "stream",
     "text": [
      "[INFO] 본문 자동 입력 성공 (현실적 패턴)\n"
     ]
    },
    {
     "name": "stderr",
     "output_type": "stream",
     "text": [
      "[2025-10-17 00:00:57] [INFO] [DELAY] upload 단계: 3.24초 대기\n"
     ]
    },
    {
     "name": "stdout",
     "output_type": "stream",
     "text": [
      "[INFO] 파일 첨부 성공: d:\\coding\\band_project\\resources/images\\mozip1.gif\n"
     ]
    },
    {
     "name": "stderr",
     "output_type": "stream",
     "text": [
      "[2025-10-17 00:01:02] [INFO] [INFO] 마우스 자연 이동: (433, 474), duration: 1.02s\n",
      "[2025-10-17 00:01:02] [INFO] [DELAY] click 단계: 1.08초 대기\n",
      "[2025-10-17 00:01:04] [INFO] [DELAY] click 단계: 0.72초 대기\n",
      "[2025-10-17 00:01:04] [INFO] [DELAY] click 단계: 1.25초 대기\n",
      "[2025-10-17 00:01:06] [INFO] [DELAY] thinking 단계: 3.49초 대기\n",
      "[2025-10-17 00:01:10] [INFO] [DELAY] scroll 단계: 0.53초 대기\n",
      "[2025-10-17 00:01:10] [INFO] [DELAY] click 단계: 1.25초 대기\n",
      "[2025-10-17 00:01:12] [INFO] [DELAY] scroll 단계: 0.60초 대기\n"
     ]
    }
   ],
   "source": [
    "process_band(driver, xpath_dict, i, TXT_DIR, IMAGE_DIR)"
   ]
  }
 ],
 "metadata": {
  "kernelspec": {
   "display_name": "band-project",
   "language": "python",
   "name": "python3"
  },
  "language_info": {
   "codemirror_mode": {
    "name": "ipython",
    "version": 3
   },
   "file_extension": ".py",
   "mimetype": "text/x-python",
   "name": "python",
   "nbconvert_exporter": "python",
   "pygments_lexer": "ipython3",
   "version": "3.8.8"
  }
 },
 "nbformat": 4,
 "nbformat_minor": 5
}
