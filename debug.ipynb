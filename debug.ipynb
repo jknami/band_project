{
 "cells": [
  {
   "cell_type": "code",
   "execution_count": 18,
   "id": "5c861b43",
   "metadata": {},
   "outputs": [],
   "source": [
    "import os\n",
    "import json\n",
    "import pyautogui\n",
    "import time\n",
    "import random\n",
    "from selenium import webdriver\n",
    "from selenium.webdriver.chrome.service import Service\n",
    "from webdriver_manager.chrome import ChromeDriverManager\n",
    "from selenium.webdriver.common.alert import Alert\n",
    "from selenium.webdriver.common.keys import Keys"
   ]
  },
  {
   "cell_type": "code",
   "execution_count": 19,
   "id": "cb73be31",
   "metadata": {},
   "outputs": [],
   "source": [
    "from src.chrome_manager import select_mobile_and_get_driver\n",
    "from src.account_manager import login, save_cookies\n",
    "from src.utils import x_path_click\n",
    "from resources.xpath_dict import xpath_dict, id_dict\n",
    "from src.naverband_automation import roof_bands, perform_logout\n",
    "from config import *"
   ]
  },
  {
   "cell_type": "code",
   "execution_count": 20,
   "id": "d98906d7",
   "metadata": {},
   "outputs": [],
   "source": [
    "import pyautogui    # prompt 입력에 필요\n",
    "import time         # sleep, 시간 계산 등에 필요\n",
    "import random       # rand_sleep, 셔플 등에 필요\n",
    "from selenium import webdriver   # driver 사용에 필요\n",
    "from selenium.webdriver.common.alert import Alert   # Alert 처리 필요\n",
    "from selenium.webdriver.common.keys import Keys     # 키입력(ESC, ENTER)에 필요\n",
    "\n",
    "from src.chrome_manager import select_mobile_and_get_driver\n",
    "from src.account_manager import login, save_cookies\n",
    "from src.utils import x_path_click\n",
    "from resources.xpath_dict import xpath_dict, id_dict\n",
    "from src.naverband_automation import roof_bands, perform_logout\n",
    "from config import *"
   ]
  },
  {
   "cell_type": "markdown",
   "id": "6cc9ba60",
   "metadata": {},
   "source": [
    "### mobile, driver = select_mobile_and_get_driver() 부분\n"
   ]
  },
  {
   "cell_type": "code",
   "execution_count": 4,
   "id": "3b125e27",
   "metadata": {},
   "outputs": [
    {
     "name": "stdout",
     "output_type": "stream",
     "text": [
      "['01075381965', '01020664732', '01027851965']\n"
     ]
    }
   ],
   "source": [
    "# 1) id_dict에서 전화번호 키 리스트 추출\n",
    "ids = list(id_dict.keys())\n",
    "print(ids)"
   ]
  },
  {
   "cell_type": "code",
   "execution_count": 5,
   "id": "f6c1a243",
   "metadata": {},
   "outputs": [
    {
     "name": "stderr",
     "output_type": "stream",
     "text": [
      "[2025-10-24 02:54:57] [INFO] 선택한 전화번호는 01075381965\n"
     ]
    }
   ],
   "source": [
    "from src.utils import resource_path, ensure_dir, get_cookie_path, x_path_click, x_path_send_keys, logger, move_mouse_naturally\n",
    "# 2) pyautogui로 전화번호 선택\n",
    "mobile_num = pyautogui.confirm('전화번호를 선택하시오', buttons=ids)\n",
    "logger.info(f'선택한 전화번호는 {mobile_num}')"
   ]
  },
  {
   "cell_type": "code",
   "execution_count": 6,
   "id": "46fcbd60",
   "metadata": {},
   "outputs": [
    {
     "name": "stderr",
     "output_type": "stream",
     "text": [
      "[2025-10-24 02:55:00] [INFO] get_profile_paht()->profile_dir의 경로는 d:\\coding\\band_project\\accounts/01075381965/chrome_profile\n"
     ]
    }
   ],
   "source": [
    "from src.utils import get_profile_path\n",
    "# 3) 선택된 전화번호에 맞는 크롬 프로필 경로 계산 및 생성\n",
    "profile_dir = get_profile_path(mobile_num)"
   ]
  },
  {
   "cell_type": "code",
   "execution_count": 7,
   "id": "b91da6ac",
   "metadata": {},
   "outputs": [
    {
     "name": "stderr",
     "output_type": "stream",
     "text": [
      "[2025-10-24 02:57:08] [INFO] 크롬 프로필 기본 저장 위치 : d:\\coding\\band_project\\accounts/01075381965/chrome_profile\\Default\\Preferences\n"
     ]
    }
   ],
   "source": [
    "from src.chrome_manager import fix_chrome_profile_preferences\n",
    " # 4) 프로필 Preferences 파일 패치\n",
    "fix_chrome_profile_preferences(profile_dir)"
   ]
  },
  {
   "cell_type": "code",
   "execution_count": 9,
   "id": "9fa8cf7a",
   "metadata": {},
   "outputs": [
    {
     "name": "stderr",
     "output_type": "stream",
     "text": [
      "[2025-10-24 03:03:56] [INFO] profile적용\n"
     ]
    }
   ],
   "source": [
    "# 5) ChromeOptions 객체 생성 및 옵션 추가\n",
    "options = webdriver.ChromeOptions()\n",
    "options.add_argument(f\"--user-data-dir={profile_dir}\")  # 프로필 적용\n",
    "logger.info(f'profile적용')"
   ]
  },
  {
   "cell_type": "code",
   "execution_count": 10,
   "id": "8f647764",
   "metadata": {},
   "outputs": [
    {
     "name": "stderr",
     "output_type": "stream",
     "text": [
      "[2025-10-24 03:05:19] [INFO] print-log-최소화\n"
     ]
    }
   ],
   "source": [
    "# 로그레벨 설정 (Print 로그 최소화)\n",
    "options.add_argument('--log-level=3')\n",
    "logger.info(f'print-log-최소화')"
   ]
  },
  {
   "cell_type": "code",
   "execution_count": 11,
   "id": "916cfb0d",
   "metadata": {},
   "outputs": [
    {
     "name": "stderr",
     "output_type": "stream",
     "text": [
      "[2025-10-24 03:06:14] [INFO] GPU비활성화\n"
     ]
    }
   ],
   "source": [
    "# GPU 비활성화 옵션\n",
    "options.add_argument('--disable-gpu')\n",
    "options.add_argument('--disable-software-rasterizer')\n",
    "logger.info(f'GPU비활성화')"
   ]
  },
  {
   "cell_type": "code",
   "execution_count": 12,
   "id": "c0600245",
   "metadata": {},
   "outputs": [
    {
     "name": "stderr",
     "output_type": "stream",
     "text": [
      "[2025-10-24 03:07:00] [INFO] 탐지관련옵션추가\n"
     ]
    }
   ],
   "source": [
    "# 탐지 회피 관련 옵션 추가\n",
    "options.add_argument(\"--disable-blink-features=AutomationControlled\")\n",
    "options.add_experimental_option(\"excludeSwitches\", [\"enable-automation\"])\n",
    "options.add_experimental_option(\"useAutomationExtension\", False)\n",
    "logger.info('탐지관련옵션추가')"
   ]
  },
  {
   "cell_type": "code",
   "execution_count": 15,
   "id": "00620bcd",
   "metadata": {},
   "outputs": [
    {
     "name": "stdout",
     "output_type": "stream",
     "text": [
      "--disable-blink-features=AutomationControlled\n",
      "--disable-infobars\n",
      "--disable-extensions\n",
      "--no-sandbox\n",
      "--disable-dev-shm-usage\n",
      "--ignore-certificate-errors\n",
      "--disable-popup-blocking\n",
      "--start-maximized\n"
     ]
    }
   ],
   "source": [
    "for opt in DEFAULT_CHROME_OPTIONS:\n",
    "    options.add_argument(opt)\n",
    "    print(opt) # 기본 옵션\n",
    "    \n",
    "    \n",
    "                               \n",
    "options.add_argument(f\"user-agent={USER_AGENT}\")       # 사용자 에이전트"
   ]
  },
  {
   "cell_type": "code",
   "execution_count": 16,
   "id": "b35a866a",
   "metadata": {},
   "outputs": [],
   "source": [
    "\n",
    "# 5-1)======비밀번호 저장/자동완성 관리 팝업 사전 차단 ======\n",
    "# 이 프리퍼런스(prefs) 옵션을 추가하면 로그인 후 비밀번호 저장 안내창이 더 이상 나타나지 않음\n",
    "prefs = {\n",
    "    \"credentials_enable_service\": False,            # 크롬 비밀번호 관리 서비스 OFF\n",
    "    \"profile.password_manager_enabled\": False       # 프로필 비밀번호 저장/자동완성 OFF\n",
    "}\n",
    "options.add_experimental_option(\"prefs\", prefs)\n",
    "\n",
    "# 6) ChromeDriverManager로 드라이버 설치/업데이트 후 실행\n",
    "service = Service(ChromeDriverManager().install(), log_path='NUL')  # 윈도우 기준 콘솔 로그 숨김\n",
    "driver = webdriver.Chrome(service=service, options=options)"
   ]
  },
  {
   "cell_type": "code",
   "execution_count": 7,
   "id": "48b75b7b",
   "metadata": {},
   "outputs": [],
   "source": [
    "# 7) 네이버밴드 로그인 페이지로 자동 이동\n",
    "driver.get(NAVERBAND_URL)"
   ]
  },
  {
   "cell_type": "code",
   "execution_count": 18,
   "id": "21737b37",
   "metadata": {},
   "outputs": [],
   "source": [
    "# 탐지 JS 속성 우회 강화 (execute_cdp_cmd 사용)\n",
    "try:\n",
    "    driver.execute_cdp_cmd(\"Page.addScriptToEvaluateOnNewDocument\", {\n",
    "        \"source\": \"\"\"\n",
    "            Object.defineProperty(navigator, 'webdriver', {get: () => false});\n",
    "            Object.defineProperty(navigator, 'plugins', {\n",
    "                get: () => [1, 2, 3, 4, 5],\n",
    "            });\n",
    "            Object.defineProperty(navigator, 'languages', {\n",
    "                get: () => ['ko-KR', 'ko'],\n",
    "            });\n",
    "        \"\"\"\n",
    "    })\n",
    "except Exception as e:\n",
    "        logger.error(f\"[WARN] 탐지 JS 우회 코드 주입 실패: {e}\")"
   ]
  },
  {
   "cell_type": "code",
   "execution_count": 20,
   "id": "8f1b8cda",
   "metadata": {},
   "outputs": [
    {
     "name": "stderr",
     "output_type": "stream",
     "text": [
      "[2025-10-24 03:18:38] [INFO] [INFO] 복원 팝업 ESC 키 전송으로 닫음\n"
     ]
    }
   ],
   "source": [
    "# 8) 드라이버에 선택된 전화번호 정보 저장\n",
    "driver.selected_mobile = mobile_num\n",
    "\n",
    "from src.chrome_manager import close_restore_popup\n",
    "# 9) \"페이지 복원\" 팝업 자동 닫기 시도\n",
    "close_restore_popup(driver)"
   ]
  },
  {
   "cell_type": "code",
   "execution_count": 21,
   "id": "1c08646f",
   "metadata": {},
   "outputs": [
    {
     "name": "stderr",
     "output_type": "stream",
     "text": [
      "[2025-10-24 03:59:53] [INFO] 선택한 전화번호는 01075381965\n",
      "[2025-10-24 03:59:53] [INFO] get_profile_paht()->profile_dir의 경로는 d:\\coding\\band_project\\accounts/01075381965/chrome_profile\n",
      "[2025-10-24 03:59:53] [INFO] fix_chrome_profile_preferences()->크롬 프로필 기본 저장 위치 : d:\\coding\\band_project\\accounts/01075381965/chrome_profile\\Default\\Preferences\n",
      "[2025-10-24 03:59:59] [INFO] [INFO] 마우스 자연 이동: (863, 213), duration: 1.42s\n",
      "[2025-10-24 03:59:59] [INFO] [INFO] 복원 팝업 ESC 키 전송으로 닫음\n"
     ]
    }
   ],
   "source": [
    "mobile, driver = select_mobile_and_get_driver()"
   ]
  },
  {
   "cell_type": "markdown",
   "id": "5556652f",
   "metadata": {},
   "source": [
    "### login(driver)부분"
   ]
  },
  {
   "cell_type": "code",
   "execution_count": 6,
   "id": "21c4aa76",
   "metadata": {},
   "outputs": [],
   "source": [
    "from selenium.webdriver.support.ui import WebDriverWait\n",
    "account_id = driver.selected_mobile\n",
    "wait = WebDriverWait(driver, 10)"
   ]
  },
  {
   "cell_type": "code",
   "execution_count": 10,
   "id": "16c7713e",
   "metadata": {},
   "outputs": [
    {
     "name": "stderr",
     "output_type": "stream",
     "text": [
      "[2025-10-24 03:44:07] [INFO] [쿠키 복원] 현재 도메인/프록시 기능이 활성화되지 않아 쿠키 주입은 건너뜁니다. 환경 구축 후 주석 해제 필요.\n"
     ]
    }
   ],
   "source": [
    "from src.account_manager import load_cookies\n",
    "# 1. 쿠키 인증 복원(도메인별 add_cookie)\n",
    "load_cookies(driver)\n",
    "time.sleep(1)"
   ]
  },
  {
   "cell_type": "code",
   "execution_count": 11,
   "id": "82bfb7d4",
   "metadata": {},
   "outputs": [],
   "source": [
    "# 2. 로그인 페이지로 이동\n",
    "driver.get(NAVERBAND_LOGIN_URL)\n",
    "time.sleep(2)"
   ]
  },
  {
   "cell_type": "code",
   "execution_count": null,
   "id": "6761b8b8",
   "metadata": {},
   "outputs": [
    {
     "name": "stderr",
     "output_type": "stream",
     "text": [
      "[2025-10-24 03:53:59] [INFO] [INFO] 마우스 자연 이동: (377, 351), duration: 0.86s\n"
     ]
    },
    {
     "ename": "NameError",
     "evalue": "name 'logger' is not defined",
     "output_type": "error",
     "traceback": [
      "\u001b[1;31m---------------------------------------------------------------------------\u001b[0m",
      "\u001b[1;31mNameError\u001b[0m                                 Traceback (most recent call last)",
      "Cell \u001b[1;32mIn[16], line 10\u001b[0m\n\u001b[0;32m      8\u001b[0m     move_mouse_naturally()\n\u001b[0;32m      9\u001b[0m     x_path_send_keys(driver, log_in_xpath, Keys\u001b[38;5;241m.\u001b[39mRETURN)\n\u001b[1;32m---> 10\u001b[0m     \u001b[43mlogger\u001b[49m\u001b[38;5;241m.\u001b[39minfo(\u001b[38;5;124m\"\u001b[39m\u001b[38;5;124m[INFO] 전화번호 입력 성공\u001b[39m\u001b[38;5;124m\"\u001b[39m)\n\u001b[0;32m     11\u001b[0m \u001b[38;5;28;01melse\u001b[39;00m:\n\u001b[0;32m     12\u001b[0m     logger\u001b[38;5;241m.\u001b[39mwarning(\u001b[38;5;124m\"\u001b[39m\u001b[38;5;124m[WARN] 입력창 없음(자동 인증/사이트 구조 변경 등)\u001b[39m\u001b[38;5;124m\"\u001b[39m)\n",
      "\u001b[1;31mNameError\u001b[0m: name 'logger' is not defined"
     ]
    }
   ],
   "source": [
    "from selenium.webdriver.common.by import By\n",
    "from src.utils import x_path_send_keys\n",
    "from src.utils import move_mouse_naturally\n",
    "from src.utils import resource_path, ensure_dir, get_cookie_path, x_path_click, x_path_send_keys, logger, move_mouse_naturally\n",
    "# 3. 전화번호 입력창(XPath) 실존 체크\n",
    "log_in_xpath = xpath_dict['log_in']\n",
    "if driver.find_elements(By.XPATH, log_in_xpath):\n",
    "    x_path_send_keys(driver, log_in_xpath, account_id)\n",
    "    move_mouse_naturally()\n",
    "    x_path_send_keys(driver, log_in_xpath, Keys.RETURN)\n",
    "    logger.info(\"[INFO] 전화번호 입력 성공\")\n",
    "else:\n",
    "    logger.warning(\"[WARN] 입력창 없음(자동 인증/사이트 구조 변경 등)\")\n",
    "    # return"
   ]
  },
  {
   "cell_type": "code",
   "execution_count": 17,
   "id": "15632984",
   "metadata": {},
   "outputs": [
    {
     "name": "stderr",
     "output_type": "stream",
     "text": [
      "[2025-10-24 03:56:47] [INFO] [INFO] 마우스 자연 이동: (855, 483), duration: 0.42s\n",
      "[2025-10-24 03:56:48] [INFO] [INFO] 비밀번호 입력 성공\n"
     ]
    }
   ],
   "source": [
    "from selenium.webdriver.common.by import By\n",
    "from src.utils import x_path_send_keys\n",
    "from src.utils import move_mouse_naturally\n",
    "from src.utils import resource_path, ensure_dir, get_cookie_path, x_path_click, x_path_send_keys, logger, move_mouse_naturally\n",
    "# 4. 비밀번호 입력도 동일하게 처리\n",
    "password_xpath = xpath_dict['password']\n",
    "if driver.find_elements(By.XPATH, password_xpath):\n",
    "    x_path_send_keys(driver, password_xpath, id_dict[account_id])\n",
    "    move_mouse_naturally()\n",
    "    x_path_send_keys(driver, password_xpath, Keys.RETURN)\n",
    "    logger.info(\"[INFO] 비밀번호 입력 성공\")\n",
    "else:\n",
    "    logger.warning(\"[WARN] 비밀번호 입력창 없음!\")\n",
    "    # return"
   ]
  },
  {
   "cell_type": "code",
   "execution_count": 22,
   "id": "a0e1f343",
   "metadata": {},
   "outputs": [
    {
     "name": "stderr",
     "output_type": "stream",
     "text": [
      "[2025-10-24 04:00:50] [INFO] [쿠키 복원] 현재 도메인/프록시 기능이 활성화되지 않아 쿠키 주입은 건너뜁니다. 환경 구축 후 주석 해제 필요.\n",
      "[2025-10-24 04:00:56] [INFO] [INFO] 마우스 자연 이동: (670, 471), duration: 1.02s\n",
      "[2025-10-24 04:00:57] [INFO] [INFO] 전화번호 입력 성공\n",
      "[2025-10-24 04:00:59] [INFO] [INFO] 마우스 자연 이동: (614, 340), duration: 0.84s\n",
      "[2025-10-24 04:01:01] [INFO] [INFO] 비밀번호 입력 성공\n"
     ]
    }
   ],
   "source": [
    "login(driver)"
   ]
  },
  {
   "cell_type": "code",
   "execution_count": 48,
   "id": "8e844ef1",
   "metadata": {},
   "outputs": [],
   "source": [
    "def process_band(driver, xpath_dict, i, TXT_DIR, IMAGE_DIR):\n",
    "    \"\"\"\n",
    "    밴드 작업을 사람 행동처럼 자연스럽게 수행\n",
    "    \"\"\"\n",
    "    # 브라우저 창 포커스 유지 (윈도우창 제목 예시)\n",
    "    focus_window(\"band\")\n",
    "    i ='//*[@id=\"content\"]/section/div[2]/div/ul/li[2]/div/div/a/div[1]/div/span'\n",
    "    # 마우스 자연 이동 후 밴드 클릭\n",
    "# 마우스 자연 이동 후 밴드 클릭\n",
    "    move_mouse_naturally()\n",
    "    x_path_click(driver,i)\n",
    "    human_delay(\"click\")\n",
    "\n",
    "    # 글쓰기 버튼 클릭 + 고민 시간\n",
    "    human_delay(\"thinking\")\n",
    "    safe_xpath_click(driver, xpath_dict['글쓰기_1'])\n",
    "\n",
    "    # 텍스트 입력 (느린 타이핑 포함)\n",
    "    write_text_from_folder(driver, xpath_dict['글쓰기_2'], TXT_DIR)\n",
    "    human_delay(\"typing\")\n",
    "\n",
    "    # 이미지 업로드 + 대기\n",
    "    upload_file_from_folder(driver, IMAGE_DIR)\n",
    "    human_delay(\"upload\")\n",
    "\n",
    "    # 이미지 첨부 클릭 (마우스 이동 포함)\n",
    "    move_mouse_naturally()\n",
    "    x_path_click(driver, xpath_dict['이미지첨부'])\n",
    "    human_delay(\"click\")\n",
    "\n",
    "    # 게시하기 클릭 + 생각시간\n",
    "    x_path_click(driver, xpath_dict['이미지게시'])\n",
    "    human_delay(\"thinking\")\n",
    "\n",
    "    # 화면 스크롤 후 홈으로 돌아가기\n",
    "    driver.execute_script(\"window.scrollBy(0, window.innerHeight / 3)\")\n",
    "    human_delay(\"scroll\")\n",
    "    x_path_click(driver, xpath_dict['홈'])\n",
    "    human_delay(\"scroll\")"
   ]
  },
  {
   "cell_type": "code",
   "execution_count": 49,
   "id": "c20bc74b",
   "metadata": {},
   "outputs": [
    {
     "name": "stderr",
     "output_type": "stream",
     "text": [
      "[2025-10-16 23:58:14] [INFO] [INFO] 창 포커스 및 최대화: ● debug.ipynb - band_project - Visual Studio Code\n",
      "[2025-10-16 23:58:16] [INFO] [INFO] 마우스 자연 이동: (650, 454), duration: 1.36s\n",
      "[2025-10-16 23:58:16] [INFO] [DELAY] click 단계: 1.29초 대기\n",
      "[2025-10-16 23:58:18] [INFO] [DELAY] click 단계: 1.26초 대기\n",
      "[2025-10-16 23:58:19] [INFO] [DELAY] thinking 단계: 3.92초 대기\n",
      "[2025-10-16 23:58:23] [INFO] [DELAY] click 단계: 0.76초 대기\n",
      "[2025-10-16 23:58:34] [WARNING] [WARN] XPATH 클릭 실패: //*[@id=\"content\"]/section/div[2]/div/button\n",
      "에러: Message: \n",
      "\n",
      "[2025-10-16 23:58:34] [INFO] [INFO] 에러 스크린샷 저장: d:\\coding\\band_project\\logs/screenshots\\xpath_click_fail_20251016_235834.png\n",
      "[2025-10-16 23:58:35] [INFO] [INFO] 마우스 자연 이동: (368, 347), duration: 0.45s\n",
      "[2025-10-16 23:58:35] [INFO] [DELAY] thinking 단계: 3.04초 대기\n",
      "[2025-10-16 23:58:38] [INFO] [DELAY] click 단계: 1.11초 대기\n",
      "[2025-10-16 23:58:49] [WARNING] [WARN] 기본 클릭 실패(Message: \n",
      "), 인간 패턴 클릭으로 전환 중...\n",
      "[2025-10-16 23:58:49] [INFO] [DELAY] click 단계: 1.22초 대기\n",
      "[2025-10-16 23:58:51] [INFO] [DELAY] click 단계: 0.65초 대기\n",
      "[2025-10-16 23:58:52] [INFO] [INFO] 글쓰기 버튼 강제 클릭 성공\n",
      "[2025-10-16 23:58:52] [INFO] [DELAY] default 단계: 2.40초 대기\n",
      "[2025-10-17 00:00:54] [INFO] [DELAY] typing 단계: 3.42초 대기\n"
     ]
    },
    {
     "name": "stdout",
     "output_type": "stream",
     "text": [
      "[INFO] 본문 자동 입력 성공 (현실적 패턴)\n"
     ]
    },
    {
     "name": "stderr",
     "output_type": "stream",
     "text": [
      "[2025-10-17 00:00:57] [INFO] [DELAY] upload 단계: 3.24초 대기\n"
     ]
    },
    {
     "name": "stdout",
     "output_type": "stream",
     "text": [
      "[INFO] 파일 첨부 성공: d:\\coding\\band_project\\resources/images\\mozip1.gif\n"
     ]
    },
    {
     "name": "stderr",
     "output_type": "stream",
     "text": [
      "[2025-10-17 00:01:02] [INFO] [INFO] 마우스 자연 이동: (433, 474), duration: 1.02s\n",
      "[2025-10-17 00:01:02] [INFO] [DELAY] click 단계: 1.08초 대기\n",
      "[2025-10-17 00:01:04] [INFO] [DELAY] click 단계: 0.72초 대기\n",
      "[2025-10-17 00:01:04] [INFO] [DELAY] click 단계: 1.25초 대기\n",
      "[2025-10-17 00:01:06] [INFO] [DELAY] thinking 단계: 3.49초 대기\n",
      "[2025-10-17 00:01:10] [INFO] [DELAY] scroll 단계: 0.53초 대기\n",
      "[2025-10-17 00:01:10] [INFO] [DELAY] click 단계: 1.25초 대기\n",
      "[2025-10-17 00:01:12] [INFO] [DELAY] scroll 단계: 0.60초 대기\n"
     ]
    }
   ],
   "source": [
    "process_band(driver, xpath_dict, i, TXT_DIR, IMAGE_DIR)"
   ]
  }
 ],
 "metadata": {
  "kernelspec": {
   "display_name": "band-project",
   "language": "python",
   "name": "python3"
  },
  "language_info": {
   "codemirror_mode": {
    "name": "ipython",
    "version": 3
   },
   "file_extension": ".py",
   "mimetype": "text/x-python",
   "name": "python",
   "nbconvert_exporter": "python",
   "pygments_lexer": "ipython3",
   "version": "3.8.8"
  }
 },
 "nbformat": 4,
 "nbformat_minor": 5
}
