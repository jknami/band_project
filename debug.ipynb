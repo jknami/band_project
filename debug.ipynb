{
 "cells": [
  {
   "cell_type": "code",
   "execution_count": null,
   "id": "5c861b43",
   "metadata": {},
   "outputs": [],
   "source": [
    "import os\n",
    "import json\n",
    "import pyautogui\n",
    "import time\n",
    "import random\n",
    "from selenium import webdriver\n",
    "from selenium.webdriver.chrome.service import Service\n",
    "from webdriver_manager.chrome import ChromeDriverManager\n",
    "from selenium.webdriver.common.alert import Alert\n",
    "from selenium.webdriver.common.keys import Keys"
   ]
  },
  {
   "cell_type": "code",
   "execution_count": null,
   "id": "cb73be31",
   "metadata": {},
   "outputs": [],
   "source": [
    "from src.chrome_manager import select_mobile_and_get_driver\n",
    "from src.account_manager import login, save_cookies\n",
    "from src.utils import x_path_click\n",
    "from resources.xpath_dict import xpath_dict, id_dict\n",
    "from src.naverband_automation import roof_bands, perform_logout\n",
    "from config import *"
   ]
  },
  {
   "cell_type": "code",
   "execution_count": null,
   "id": "d98906d7",
   "metadata": {},
   "outputs": [],
   "source": [
    "import pyautogui    # prompt 입력에 필요\n",
    "import time         # sleep, 시간 계산 등에 필요\n",
    "import random       # rand_sleep, 셔플 등에 필요\n",
    "from selenium import webdriver   # driver 사용에 필요\n",
    "from selenium.webdriver.common.alert import Alert   # Alert 처리 필요\n",
    "from selenium.webdriver.common.keys import Keys     # 키입력(ESC, ENTER)에 필요\n",
    "\n",
    "from src.chrome_manager import select_mobile_and_get_driver\n",
    "from src.account_manager import login, save_cookies\n",
    "from src.utils import x_path_click\n",
    "from resources.xpath_dict import xpath_dict, id_dict\n",
    "from src.naverband_automation import roof_bands, perform_logout\n",
    "from config import *"
   ]
  },
  {
   "cell_type": "markdown",
   "id": "6cc9ba60",
   "metadata": {},
   "source": [
    "### mobile, driver = select_mobile_and_get_driver() 부분\n"
   ]
  },
  {
   "cell_type": "code",
   "execution_count": null,
   "id": "3b125e27",
   "metadata": {},
   "outputs": [],
   "source": [
    "# 1) id_dict에서 전화번호 키 리스트 추출\n",
    "ids = list(id_dict.keys())\n",
    "print(ids)"
   ]
  },
  {
   "cell_type": "code",
   "execution_count": null,
   "id": "f6c1a243",
   "metadata": {},
   "outputs": [],
   "source": [
    "from src.utils import resource_path, ensure_dir, get_cookie_path, x_path_click, x_path_send_keys, logger, move_mouse_naturally\n",
    "# 2) pyautogui로 전화번호 선택\n",
    "mobile_num = pyautogui.confirm('전화번호를 선택하시오', buttons=ids)\n",
    "logger.info(f'선택한 전화번호는 {mobile_num}')"
   ]
  },
  {
   "cell_type": "code",
   "execution_count": null,
   "id": "46fcbd60",
   "metadata": {},
   "outputs": [],
   "source": [
    "from src.utils import get_profile_path\n",
    "# 3) 선택된 전화번호에 맞는 크롬 프로필 경로 계산 및 생성\n",
    "profile_dir = get_profile_path(mobile_num)"
   ]
  },
  {
   "cell_type": "code",
   "execution_count": null,
   "id": "b91da6ac",
   "metadata": {},
   "outputs": [],
   "source": [
    "from src.chrome_manager import fix_chrome_profile_preferences\n",
    " # 4) 프로필 Preferences 파일 패치\n",
    "fix_chrome_profile_preferences(profile_dir)"
   ]
  },
  {
   "cell_type": "code",
   "execution_count": null,
   "id": "9fa8cf7a",
   "metadata": {},
   "outputs": [],
   "source": [
    "# 5) ChromeOptions 객체 생성 및 옵션 추가\n",
    "options = webdriver.ChromeOptions()\n",
    "options.add_argument(f\"--user-data-dir={profile_dir}\")  # 프로필 적용\n",
    "logger.info(f'profile적용')"
   ]
  },
  {
   "cell_type": "code",
   "execution_count": null,
   "id": "8f647764",
   "metadata": {},
   "outputs": [],
   "source": [
    "# 로그레벨 설정 (Print 로그 최소화)\n",
    "options.add_argument('--log-level=3')\n",
    "logger.info(f'print-log-최소화')"
   ]
  },
  {
   "cell_type": "code",
   "execution_count": null,
   "id": "916cfb0d",
   "metadata": {},
   "outputs": [],
   "source": [
    "# GPU 비활성화 옵션\n",
    "options.add_argument('--disable-gpu')\n",
    "options.add_argument('--disable-software-rasterizer')\n",
    "logger.info(f'GPU비활성화')"
   ]
  },
  {
   "cell_type": "code",
   "execution_count": null,
   "id": "c0600245",
   "metadata": {},
   "outputs": [],
   "source": [
    "# 탐지 회피 관련 옵션 추가\n",
    "options.add_argument(\"--disable-blink-features=AutomationControlled\")\n",
    "options.add_experimental_option(\"excludeSwitches\", [\"enable-automation\"])\n",
    "options.add_experimental_option(\"useAutomationExtension\", False)\n",
    "logger.info('탐지관련옵션추가')"
   ]
  },
  {
   "cell_type": "code",
   "execution_count": null,
   "id": "00620bcd",
   "metadata": {},
   "outputs": [],
   "source": [
    "for opt in DEFAULT_CHROME_OPTIONS:\n",
    "    options.add_argument(opt)\n",
    "    print(opt) # 기본 옵션\n",
    "    \n",
    "    \n",
    "                               \n",
    "options.add_argument(f\"user-agent={USER_AGENT}\")       # 사용자 에이전트"
   ]
  },
  {
   "cell_type": "code",
   "execution_count": null,
   "id": "b35a866a",
   "metadata": {},
   "outputs": [],
   "source": [
    "\n",
    "# 5-1)======비밀번호 저장/자동완성 관리 팝업 사전 차단 ======\n",
    "# 이 프리퍼런스(prefs) 옵션을 추가하면 로그인 후 비밀번호 저장 안내창이 더 이상 나타나지 않음\n",
    "prefs = {\n",
    "    \"credentials_enable_service\": False,            # 크롬 비밀번호 관리 서비스 OFF\n",
    "    \"profile.password_manager_enabled\": False       # 프로필 비밀번호 저장/자동완성 OFF\n",
    "}\n",
    "options.add_experimental_option(\"prefs\", prefs)\n",
    "\n",
    "# 6) ChromeDriverManager로 드라이버 설치/업데이트 후 실행\n",
    "service = Service(ChromeDriverManager().install(), log_path='NUL')  # 윈도우 기준 콘솔 로그 숨김\n",
    "driver = webdriver.Chrome(service=service, options=options)"
   ]
  },
  {
   "cell_type": "code",
   "execution_count": null,
   "id": "48b75b7b",
   "metadata": {},
   "outputs": [],
   "source": [
    "# 7) 네이버밴드 로그인 페이지로 자동 이동\n",
    "driver.get(NAVERBAND_URL)"
   ]
  },
  {
   "cell_type": "code",
   "execution_count": null,
   "id": "21737b37",
   "metadata": {},
   "outputs": [],
   "source": [
    "# 탐지 JS 속성 우회 강화 (execute_cdp_cmd 사용)\n",
    "try:\n",
    "    driver.execute_cdp_cmd(\"Page.addScriptToEvaluateOnNewDocument\", {\n",
    "        \"source\": \"\"\"\n",
    "            Object.defineProperty(navigator, 'webdriver', {get: () => false});\n",
    "            Object.defineProperty(navigator, 'plugins', {\n",
    "                get: () => [1, 2, 3, 4, 5],\n",
    "            });\n",
    "            Object.defineProperty(navigator, 'languages', {\n",
    "                get: () => ['ko-KR', 'ko'],\n",
    "            });\n",
    "        \"\"\"\n",
    "    })\n",
    "except Exception as e:\n",
    "        logger.error(f\"[WARN] 탐지 JS 우회 코드 주입 실패: {e}\")"
   ]
  },
  {
   "cell_type": "code",
   "execution_count": null,
   "id": "8f1b8cda",
   "metadata": {},
   "outputs": [],
   "source": [
    "# 8) 드라이버에 선택된 전화번호 정보 저장\n",
    "driver.selected_mobile = mobile_num\n",
    "\n",
    "from src.chrome_manager import close_restore_popup\n",
    "# 9) \"페이지 복원\" 팝업 자동 닫기 시도\n",
    "close_restore_popup(driver)"
   ]
  },
  {
   "cell_type": "code",
   "execution_count": null,
   "id": "1c08646f",
   "metadata": {},
   "outputs": [],
   "source": [
    "mobile, driver = select_mobile_and_get_driver()"
   ]
  },
  {
   "cell_type": "markdown",
   "id": "5556652f",
   "metadata": {},
   "source": [
    "### login(driver)부분"
   ]
  },
  {
   "cell_type": "code",
   "execution_count": null,
   "id": "21c4aa76",
   "metadata": {},
   "outputs": [],
   "source": [
    "from selenium.webdriver.support.ui import WebDriverWait\n",
    "account_id = driver.selected_mobile\n",
    "wait = WebDriverWait(driver, 10)"
   ]
  },
  {
   "cell_type": "code",
   "execution_count": null,
   "id": "16c7713e",
   "metadata": {},
   "outputs": [],
   "source": [
    "from src.account_manager import load_cookies\n",
    "# 1. 쿠키 인증 복원(도메인별 add_cookie)\n",
    "load_cookies(driver)\n",
    "time.sleep(1)"
   ]
  },
  {
   "cell_type": "code",
   "execution_count": null,
   "id": "82bfb7d4",
   "metadata": {},
   "outputs": [],
   "source": [
    "# 2. 로그인 페이지로 이동\n",
    "driver.get(NAVERBAND_LOGIN_URL)\n",
    "time.sleep(2)"
   ]
  },
  {
   "cell_type": "code",
   "execution_count": null,
   "id": "6761b8b8",
   "metadata": {},
   "outputs": [],
   "source": [
    "from selenium.webdriver.common.by import By\n",
    "from src.utils import x_path_send_keys\n",
    "from src.utils import move_mouse_naturally\n",
    "from src.utils import resource_path, ensure_dir, get_cookie_path, x_path_click, x_path_send_keys, logger, move_mouse_naturally\n",
    "# 3. 전화번호 입력창(XPath) 실존 체크\n",
    "log_in_xpath = xpath_dict['log_in']\n",
    "if driver.find_elements(By.XPATH, log_in_xpath):\n",
    "    x_path_send_keys(driver, log_in_xpath, account_id)\n",
    "    move_mouse_naturally()\n",
    "    x_path_send_keys(driver, log_in_xpath, Keys.RETURN)\n",
    "    logger.info(\"[INFO] 전화번호 입력 성공\")\n",
    "else:\n",
    "    logger.warning(\"[WARN] 입력창 없음(자동 인증/사이트 구조 변경 등)\")\n",
    "    # return"
   ]
  },
  {
   "cell_type": "code",
   "execution_count": null,
   "id": "15632984",
   "metadata": {},
   "outputs": [],
   "source": [
    "from selenium.webdriver.common.by import By\n",
    "from src.utils import x_path_send_keys\n",
    "from src.utils import move_mouse_naturally\n",
    "from src.utils import resource_path, ensure_dir, get_cookie_path, x_path_click, x_path_send_keys, logger, move_mouse_naturally\n",
    "# 4. 비밀번호 입력도 동일하게 처리\n",
    "password_xpath = xpath_dict['password']\n",
    "if driver.find_elements(By.XPATH, password_xpath):\n",
    "    x_path_send_keys(driver, password_xpath, id_dict[account_id])\n",
    "    move_mouse_naturally()\n",
    "    x_path_send_keys(driver, password_xpath, Keys.RETURN)\n",
    "    logger.info(\"[INFO] 비밀번호 입력 성공\")\n",
    "else:\n",
    "    logger.warning(\"[WARN] 비밀번호 입력창 없음!\")\n",
    "    # return"
   ]
  },
  {
   "cell_type": "code",
   "execution_count": null,
   "id": "a0e1f343",
   "metadata": {},
   "outputs": [],
   "source": [
    "login(driver)"
   ]
  },
  {
   "cell_type": "code",
   "execution_count": null,
   "id": "8e844ef1",
   "metadata": {},
   "outputs": [],
   "source": [
    "def process_band(driver, xpath_dict, i, TXT_DIR, IMAGE_DIR):\n",
    "    \"\"\"\n",
    "    밴드 작업을 사람 행동처럼 자연스럽게 수행\n",
    "    \"\"\"\n",
    "    # 브라우저 창 포커스 유지 (윈도우창 제목 예시)\n",
    "    focus_window(\"band\")\n",
    "    i ='//*[@id=\"content\"]/section/div[2]/div/ul/li[2]/div/div/a/div[1]/div/span'\n",
    "    # 마우스 자연 이동 후 밴드 클릭\n",
    "# 마우스 자연 이동 후 밴드 클릭\n",
    "    move_mouse_naturally()\n",
    "    x_path_click(driver,i)\n",
    "    human_delay(\"click\")\n",
    "\n",
    "    # 글쓰기 버튼 클릭 + 고민 시간\n",
    "    human_delay(\"thinking\")\n",
    "    safe_xpath_click(driver, xpath_dict['글쓰기_1'])\n",
    "\n",
    "    # 텍스트 입력 (느린 타이핑 포함)\n",
    "    write_text_from_folder(driver, xpath_dict['글쓰기_2'], TXT_DIR)\n",
    "    human_delay(\"typing\")\n",
    "\n",
    "    # 이미지 업로드 + 대기\n",
    "    upload_file_from_folder(driver, IMAGE_DIR)\n",
    "    human_delay(\"upload\")\n",
    "\n",
    "    # 이미지 첨부 클릭 (마우스 이동 포함)\n",
    "    move_mouse_naturally()\n",
    "    x_path_click(driver, xpath_dict['이미지첨부'])\n",
    "    human_delay(\"click\")\n",
    "\n",
    "    # 게시하기 클릭 + 생각시간\n",
    "    x_path_click(driver, xpath_dict['이미지게시'])\n",
    "    human_delay(\"thinking\")\n",
    "\n",
    "    # 화면 스크롤 후 홈으로 돌아가기\n",
    "    driver.execute_script(\"window.scrollBy(0, window.innerHeight / 3)\")\n",
    "    human_delay(\"scroll\")\n",
    "    x_path_click(driver, xpath_dict['홈'])\n",
    "    human_delay(\"scroll\")"
   ]
  },
  {
   "cell_type": "code",
   "execution_count": null,
   "id": "c20bc74b",
   "metadata": {},
   "outputs": [],
   "source": [
    "process_band(driver, xpath_dict, i, TXT_DIR, IMAGE_DIR)"
   ]
  },
  {
   "cell_type": "code",
   "execution_count": null,
   "id": "f70ce095",
   "metadata": {},
   "outputs": [],
   "source": [
    "import pickle\n",
    "\n",
    "with open('accounts/01075381965/cookies/cookies.pkl', 'rb') as f:  # 경로와 파일명은 실제 존재하는 것으로 수정\n",
    "    cookies = pickle.load(f)\n",
    "\n",
    "for cookie in cookies:\n",
    "    print(cookie)\n"
   ]
  },
  {
   "cell_type": "code",
   "execution_count": null,
   "id": "aa2a83bc",
   "metadata": {},
   "outputs": [],
   "source": [
    "import pickle  # pickle 파일(바이너리)을 읽기 위한 모듈\n",
    "import json    # json 파일(텍스트)을 저장하기 위한 모듈\n",
    "\n",
    "# 1. pkl 파일 열기\n",
    "with open('accounts/01075381965/cookies/cookies.pkl', 'rb') as f:  # 실제 파일 경로에 맞게 수정\n",
    "    cookies = pickle.load(f)  # 리스트(dict)의 형태로 읽힘\n",
    "\n",
    "# 2. json 파일로 저장\n",
    "with open('accounts/01075381965/cookies/cookies.json', 'w', encoding='utf-8') as f:  # 저장 경로/이름 수정 가능\n",
    "    json.dump(cookies, f, ensure_ascii=False, indent=4)  # 가독성 좋게 저장\n",
    "\n",
    "print(\"pickle 파일이 json 파일로 변환되었습니다.\")\n"
   ]
  },
  {
   "cell_type": "markdown",
   "id": "7c0c768e",
   "metadata": {},
   "source": [
    "### select_mobile_and_get_driver()"
   ]
  },
  {
   "cell_type": "code",
   "execution_count": null,
   "id": "ba5e2fd1",
   "metadata": {},
   "outputs": [],
   "source": [
    "from resources.xpath_dict import id_dict\n",
    "import pyautogui\n",
    "from src.utils import get_profile_path, logger, move_mouse_naturally\n",
    "from src.chrome_manager import fix_chrome_profile_preferences, get_stealth_driver, close_restore_popup\n",
    "from config import MOBILE_USER_AGENT_MAPPING, USER_AGENT, NAVERBAND_LOGIN_URL, NAVERBAND_URL\n",
    "import time"
   ]
  },
  {
   "cell_type": "code",
   "execution_count": null,
   "id": "1062e5fa",
   "metadata": {},
   "outputs": [],
   "source": [
    "ids = list(id_dict.keys())\n",
    "print(ids)"
   ]
  },
  {
   "cell_type": "code",
   "execution_count": null,
   "id": "2adff13f",
   "metadata": {},
   "outputs": [],
   "source": [
    "mobile_num = pyautogui.confirm('전화번호를 선택하시오', buttons=ids)\n",
    "logger.info(f'선택한 전화번호: {mobile_num}')"
   ]
  },
  {
   "cell_type": "code",
   "execution_count": null,
   "id": "e342859c",
   "metadata": {},
   "outputs": [],
   "source": [
    "profile_dir = get_profile_path(mobile_num)\n",
    "fix_chrome_profile_preferences(profile_dir)"
   ]
  },
  {
   "cell_type": "code",
   "execution_count": null,
   "id": "5edb6376",
   "metadata": {},
   "outputs": [],
   "source": [
    "user_agent = MOBILE_USER_AGENT_MAPPING.get(mobile_num, USER_AGENT)\n",
    "logger.info(f\"[INFO] 사용할 User-Agent: {user_agent}\")"
   ]
  },
  {
   "cell_type": "code",
   "execution_count": null,
   "id": "74b7630f",
   "metadata": {},
   "outputs": [],
   "source": [
    "driver = get_stealth_driver(profile_dir, user_agent)"
   ]
  },
  {
   "cell_type": "code",
   "execution_count": null,
   "id": "b5d12829",
   "metadata": {},
   "outputs": [],
   "source": [
    "move_mouse_naturally()\n",
    "driver.get(NAVERBAND_URL)\n",
    "time.sleep(2)"
   ]
  },
  {
   "cell_type": "code",
   "execution_count": null,
   "id": "a8fcba9c",
   "metadata": {},
   "outputs": [],
   "source": [
    "driver.selected_mobile = mobile_num\n",
    "close_restore_popup(driver)"
   ]
  },
  {
   "cell_type": "markdown",
   "id": "c818cf7b",
   "metadata": {},
   "source": [
    "## 통합"
   ]
  },
  {
   "cell_type": "code",
   "execution_count": null,
   "id": "2b0d9950",
   "metadata": {},
   "outputs": [],
   "source": [
    "from src.chrome_manager import select_mobile_and_get_driver\n",
    "from src.account_manager import login\n",
    "from src.utils import logger\n"
   ]
  },
  {
   "cell_type": "code",
   "execution_count": null,
   "id": "77653a20",
   "metadata": {},
   "outputs": [],
   "source": [
    "mobile, driver = select_mobile_and_get_driver()"
   ]
  },
  {
   "cell_type": "code",
   "execution_count": null,
   "id": "9b716ab3",
   "metadata": {},
   "outputs": [],
   "source": [
    "login(driver)"
   ]
  },
  {
   "cell_type": "code",
   "execution_count": null,
   "id": "f1f36a8f",
   "metadata": {},
   "outputs": [],
   "source": [
    "from src.utils import focus_window\n",
    "focus_window(\"band\")"
   ]
  },
  {
   "cell_type": "code",
   "execution_count": null,
   "id": "a27b2420",
   "metadata": {},
   "outputs": [],
   "source": [
    "from src.utils import *\n",
    "from src.naverband_automation import write_text_from_folder, upload_file_from_folder"
   ]
  },
  {
   "cell_type": "code",
   "execution_count": null,
   "id": "467a53c3",
   "metadata": {},
   "outputs": [],
   "source": [
    "from src.utils import x_path_click\n",
    "x_path_click(driver,'//*[@id=\"content\"]/section/div[2]/div/ul/li[5]/div/div/a/div[1]/div/span' )"
   ]
  },
  {
   "cell_type": "code",
   "execution_count": null,
   "id": "1c5c4b53",
   "metadata": {},
   "outputs": [],
   "source": [
    "human_delay(\"thinking\")\n",
    "x_path_human_click(driver, xpath_dict['글쓰기_1'])"
   ]
  },
  {
   "cell_type": "code",
   "execution_count": null,
   "id": "0406d274",
   "metadata": {},
   "outputs": [],
   "source": [
    "# 텍스트 입력 (느린 타이핑 포함)\n",
    "write_text_from_folder(driver, xpath_dict['글쓰기_2'], TXT_DIR)\n",
    "human_delay(\"typing\")"
   ]
  },
  {
   "cell_type": "code",
   "execution_count": null,
   "id": "181862d0",
   "metadata": {},
   "outputs": [],
   "source": [
    "# 이미지 업로드 + 대기\n",
    "upload_file_from_folder(driver, IMAGE_DIR)\n",
    "human_delay(\"upload\")"
   ]
  },
  {
   "cell_type": "code",
   "execution_count": null,
   "id": "c053f254",
   "metadata": {},
   "outputs": [],
   "source": [
    "# 이미지 첨부 클릭 (마우스 이동 포함)\n",
    "move_mouse_naturally()\n",
    "x_path_click(driver, xpath_dict['이미지첨부'])\n",
    "human_delay(\"click\")"
   ]
  },
  {
   "cell_type": "code",
   "execution_count": null,
   "id": "27f54d7c",
   "metadata": {},
   "outputs": [],
   "source": [
    "# 게시하기 클릭 + 생각시간\n",
    "x_path_click(driver, xpath_dict['이미지게시'])\n",
    "human_delay(\"thinking\")"
   ]
  },
  {
   "cell_type": "code",
   "execution_count": null,
   "id": "e194767a",
   "metadata": {},
   "outputs": [],
   "source": [
    "# 화면 스크롤 후 홈으로 돌아가기\n",
    "driver.execute_script(\"window.scrollBy(0, window.innerHeight / 3)\")\n",
    "human_delay(\"scroll\")\n",
    "x_path_click(driver, '//*[@id=\"header\"]/div/div[1]/h1/a')\n",
    "human_delay(\"scroll\")\n"
   ]
  },
  {
   "cell_type": "code",
   "execution_count": null,
   "id": "8804f9e4",
   "metadata": {},
   "outputs": [],
   "source": [
    "import random, time"
   ]
  },
  {
   "cell_type": "code",
   "execution_count": null,
   "id": "a8e51374",
   "metadata": {},
   "outputs": [],
   "source": [
    "n = 0\n",
    "while n > 1 :\n",
    "    roof_bands(\n",
    "        driver, \n",
    "        xpath_dict, \n",
    "        BAND_LIST, \n",
    "        TXT_DIR, \n",
    "        IMAGE_DIR, \n",
    "        MAX_ERROR_CNT=3\n",
    "    )\n",
    "    rand_sleep = random.randrange(10,20)\n",
    "    move_mouse_naturally()\n",
    "    rel_time = time.strftime('%p %I시%M분', time.localtime(time.time()+rand_sleep))\n",
    "    logger.info('-'*20)\n",
    "    logger.info('{}회전, {}초간 휴식/ {}에 다시 시작합니다'.format(t, rand_sleep, rel_time))\n",
    "    logger.info('-'*20) \n",
    "    time.sleep(rand_sleep)\n",
    "    t += 1"
   ]
  },
  {
   "cell_type": "code",
   "execution_count": null,
   "id": "1cf3ae66",
   "metadata": {},
   "outputs": [],
   "source": [
    "from src.naverband_automation import roof_bands\n",
    "from config import *\n"
   ]
  },
  {
   "cell_type": "code",
   "execution_count": null,
   "id": "548b42c2",
   "metadata": {},
   "outputs": [],
   "source": [
    "roof_bands(\n",
    "    driver, \n",
    "    xpath_dict, \n",
    "    BAND_LIST, \n",
    "    TXT_DIR, \n",
    "    IMAGE_DIR, \n",
    "    MAX_ERROR_CNT=3\n",
    "    )"
   ]
  },
  {
   "cell_type": "code",
   "execution_count": null,
   "id": "ff4bce2d",
   "metadata": {},
   "outputs": [],
   "source": [
    "x_path_click(driver,'//*[@id=\"content\"]/section/div[2]/div/ul/li[5]/div/div/a/div[1]/div/span')"
   ]
  }
 ],
 "metadata": {
  "kernelspec": {
   "display_name": "band-project",
   "language": "python",
   "name": "python3"
  },
  "language_info": {
   "codemirror_mode": {
    "name": "ipython",
    "version": 3
   },
   "file_extension": ".py",
   "mimetype": "text/x-python",
   "name": "python",
   "nbconvert_exporter": "python",
   "pygments_lexer": "ipython3",
   "version": "3.8.8"
  }
 },
 "nbformat": 4,
 "nbformat_minor": 5
}
